{
 "cells": [
  {
   "cell_type": "markdown",
   "id": "258fe937-fffc-43d5-ace8-397cadc39ffc",
   "metadata": {},
   "source": [
    "#Data Science Tools and Ecosystem"
   ]
  },
  {
   "cell_type": "markdown",
   "id": "305bee28-b3b0-4570-a488-d50e6bcb6c57",
   "metadata": {},
   "source": [
    "In this notebook, Data Science Tools and Ecosystem are summarized."
   ]
  },
  {
   "cell_type": "markdown",
   "id": "eecd01f2-12eb-4ca9-840e-43ab4eb4b4d3",
   "metadata": {},
   "source": [
    "Some of the popular languages that Data Scientists use are:\r\n",
    "\r\n",
    "1. Python  \r\n",
    "2. R  \r\n",
    "3. SQL  \r\n"
   ]
  },
  {
   "cell_type": "markdown",
   "id": "ea573154-dad1-42f8-9a4f-5ac5a422b515",
   "metadata": {},
   "source": [
    "Some of the commonly used libraries used by Data Scientists include:\n",
    "\n",
    "1. NumPy  \n",
    "2. Pandas  \n",
    "3. Matplotlib  \n"
   ]
  },
  {
   "cell_type": "markdown",
   "id": "a2c08e6f-8ed1-4b8c-9111-b941a64a815d",
   "metadata": {},
   "source": [
    "| Data Science Tools        |\n",
    "|---------------------------|\n",
    "| Jupyter Notebook          |\n",
    "| RStudio                   |\n",
    "| Visual Studio Code (VS Code) |\n"
   ]
  },
  {
   "cell_type": "markdown",
   "id": "68704c1f-d766-4b18-babb-8d031b2ea441",
   "metadata": {},
   "source": [
    "### Below are a few examples of evaluating arithmetic expressions in Python.\n"
   ]
  },
  {
   "cell_type": "code",
   "execution_count": 1,
   "id": "3f4ef66d-ac0e-42bf-9398-edc904bf0f96",
   "metadata": {},
   "outputs": [
    {
     "data": {
      "text/plain": [
       "17"
      ]
     },
     "execution_count": 1,
     "metadata": {},
     "output_type": "execute_result"
    }
   ],
   "source": [
    "# This is a simple arithmetic expression to multiply then add integers\n",
    "(3 * 4) + 5\n"
   ]
  },
  {
   "cell_type": "code",
   "execution_count": 2,
   "id": "37fba4f2-fef7-43ad-9553-170b136c8fdb",
   "metadata": {},
   "outputs": [
    {
     "data": {
      "text/plain": [
       "3.3333333333333335"
      ]
     },
     "execution_count": 2,
     "metadata": {},
     "output_type": "execute_result"
    }
   ],
   "source": [
    "# This will convert 200 minutes to hours by dividing by 60\n",
    "200 / 60\n"
   ]
  },
  {
   "cell_type": "markdown",
   "id": "8b9633bf-a074-4895-b018-a70f18a968a4",
   "metadata": {},
   "source": [
    "**Objectives:**\n",
    "\n",
    "- List popular languages for Data Science  \n",
    "- Identify commonly used libraries in Data Science  \n",
    "- Create and format markdown cells in a Jupyter Notebook  \n",
    "- Perform arithmetic operations using Python code cells  \n",
    "- Convert units using Python expressions  \n"
   ]
  },
  {
   "cell_type": "markdown",
   "id": "5a4d3e71-02e6-4952-adb7-ec5a954e3a70",
   "metadata": {},
   "source": [
    "## Author\n",
    "Youssef\n"
   ]
  },
  {
   "cell_type": "code",
   "execution_count": null,
   "id": "eaf445d6-a995-4171-9cec-cf37894eaa7a",
   "metadata": {},
   "outputs": [],
   "source": []
  }
 ],
 "metadata": {
  "kernelspec": {
   "display_name": "Python 3 (ipykernel)",
   "language": "python",
   "name": "python3"
  },
  "language_info": {
   "codemirror_mode": {
    "name": "ipython",
    "version": 3
   },
   "file_extension": ".py",
   "mimetype": "text/x-python",
   "name": "python",
   "nbconvert_exporter": "python",
   "pygments_lexer": "ipython3",
   "version": "3.12.4"
  }
 },
 "nbformat": 4,
 "nbformat_minor": 5
}
